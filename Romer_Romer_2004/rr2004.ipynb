{
 "cells": [
  {
   "cell_type": "code",
   "execution_count": 1,
   "metadata": {},
   "outputs": [],
   "source": [
    "import numpy as np\n",
    "import pandas as pd\n",
    "import datetime as dt\n",
    "import matplotlib.pyplot as mpl"
   ]
  },
  {
   "cell_type": "code",
   "execution_count": 2,
   "metadata": {},
   "outputs": [
    {
     "data": {
      "text/html": [
       "<div>\n",
       "<style scoped>\n",
       "    .dataframe tbody tr th:only-of-type {\n",
       "        vertical-align: middle;\n",
       "    }\n",
       "\n",
       "    .dataframe tbody tr th {\n",
       "        vertical-align: top;\n",
       "    }\n",
       "\n",
       "    .dataframe thead th {\n",
       "        text-align: right;\n",
       "    }\n",
       "</style>\n",
       "<table border=\"1\" class=\"dataframe\">\n",
       "  <thead>\n",
       "    <tr style=\"text-align: right;\">\n",
       "      <th></th>\n",
       "      <th>RESID</th>\n",
       "      <th>DFF</th>\n",
       "      <th>DTARG</th>\n",
       "      <th>RESIDF</th>\n",
       "      <th>PCIPNSA</th>\n",
       "      <th>PCWCP</th>\n",
       "      <th>PCPPINSA</th>\n",
       "      <th>PCCPINSA</th>\n",
       "      <th>PCPCEGSA</th>\n",
       "      <th>LNIPNSA</th>\n",
       "      <th>LNPPINSA</th>\n",
       "      <th>LNWCP</th>\n",
       "      <th>SUMSHCK</th>\n",
       "      <th>FF</th>\n",
       "      <th>SUMDTARG</th>\n",
       "      <th>SUMSHCKF</th>\n",
       "    </tr>\n",
       "    <tr>\n",
       "      <th>DATE</th>\n",
       "      <th></th>\n",
       "      <th></th>\n",
       "      <th></th>\n",
       "      <th></th>\n",
       "      <th></th>\n",
       "      <th></th>\n",
       "      <th></th>\n",
       "      <th></th>\n",
       "      <th></th>\n",
       "      <th></th>\n",
       "      <th></th>\n",
       "      <th></th>\n",
       "      <th></th>\n",
       "      <th></th>\n",
       "      <th></th>\n",
       "      <th></th>\n",
       "    </tr>\n",
       "  </thead>\n",
       "  <tbody>\n",
       "    <tr>\n",
       "      <th>1966-01-01</th>\n",
       "      <td>0.000000</td>\n",
       "      <td>NaN</td>\n",
       "      <td>0.0</td>\n",
       "      <td>0.000000</td>\n",
       "      <td>NaN</td>\n",
       "      <td>NaN</td>\n",
       "      <td>NaN</td>\n",
       "      <td>NaN</td>\n",
       "      <td>NaN</td>\n",
       "      <td>3.703990</td>\n",
       "      <td>3.549617</td>\n",
       "      <td>3.453474</td>\n",
       "      <td>0.000000e+00</td>\n",
       "      <td>4.42</td>\n",
       "      <td>0.0000</td>\n",
       "      <td>0.000000</td>\n",
       "    </tr>\n",
       "    <tr>\n",
       "      <th>1966-02-01</th>\n",
       "      <td>0.000000</td>\n",
       "      <td>0.18</td>\n",
       "      <td>0.0</td>\n",
       "      <td>0.000000</td>\n",
       "      <td>0.027662</td>\n",
       "      <td>0.016317</td>\n",
       "      <td>0.005731</td>\n",
       "      <td>0.002963</td>\n",
       "      <td>0.004159</td>\n",
       "      <td>3.731652</td>\n",
       "      <td>3.555348</td>\n",
       "      <td>3.469790</td>\n",
       "      <td>0.000000e+00</td>\n",
       "      <td>4.60</td>\n",
       "      <td>0.0000</td>\n",
       "      <td>0.000000</td>\n",
       "    </tr>\n",
       "    <tr>\n",
       "      <th>1966-03-01</th>\n",
       "      <td>0.000000</td>\n",
       "      <td>0.05</td>\n",
       "      <td>0.0</td>\n",
       "      <td>0.000000</td>\n",
       "      <td>0.019874</td>\n",
       "      <td>0.008060</td>\n",
       "      <td>0.000000</td>\n",
       "      <td>0.005900</td>\n",
       "      <td>0.002451</td>\n",
       "      <td>3.751526</td>\n",
       "      <td>3.555348</td>\n",
       "      <td>3.477850</td>\n",
       "      <td>0.000000e+00</td>\n",
       "      <td>4.65</td>\n",
       "      <td>0.0000</td>\n",
       "      <td>0.000000</td>\n",
       "    </tr>\n",
       "    <tr>\n",
       "      <th>1966-04-01</th>\n",
       "      <td>0.000000</td>\n",
       "      <td>0.02</td>\n",
       "      <td>0.0</td>\n",
       "      <td>0.000000</td>\n",
       "      <td>-0.001575</td>\n",
       "      <td>0.000926</td>\n",
       "      <td>0.000000</td>\n",
       "      <td>0.005865</td>\n",
       "      <td>0.003377</td>\n",
       "      <td>3.749951</td>\n",
       "      <td>3.555348</td>\n",
       "      <td>3.478776</td>\n",
       "      <td>0.000000e+00</td>\n",
       "      <td>4.67</td>\n",
       "      <td>0.0000</td>\n",
       "      <td>0.000000</td>\n",
       "    </tr>\n",
       "    <tr>\n",
       "      <th>1966-05-01</th>\n",
       "      <td>0.000000</td>\n",
       "      <td>0.23</td>\n",
       "      <td>0.0</td>\n",
       "      <td>0.000000</td>\n",
       "      <td>0.007054</td>\n",
       "      <td>-0.014290</td>\n",
       "      <td>0.000000</td>\n",
       "      <td>0.000000</td>\n",
       "      <td>0.001197</td>\n",
       "      <td>3.757005</td>\n",
       "      <td>3.555348</td>\n",
       "      <td>3.464485</td>\n",
       "      <td>0.000000e+00</td>\n",
       "      <td>4.90</td>\n",
       "      <td>0.0000</td>\n",
       "      <td>0.000000</td>\n",
       "    </tr>\n",
       "    <tr>\n",
       "      <th>...</th>\n",
       "      <td>...</td>\n",
       "      <td>...</td>\n",
       "      <td>...</td>\n",
       "      <td>...</td>\n",
       "      <td>...</td>\n",
       "      <td>...</td>\n",
       "      <td>...</td>\n",
       "      <td>...</td>\n",
       "      <td>...</td>\n",
       "      <td>...</td>\n",
       "      <td>...</td>\n",
       "      <td>...</td>\n",
       "      <td>...</td>\n",
       "      <td>...</td>\n",
       "      <td>...</td>\n",
       "      <td>...</td>\n",
       "    </tr>\n",
       "    <tr>\n",
       "      <th>1996-08-01</th>\n",
       "      <td>-0.065340</td>\n",
       "      <td>-0.18</td>\n",
       "      <td>0.0</td>\n",
       "      <td>-0.182795</td>\n",
       "      <td>0.047797</td>\n",
       "      <td>0.001733</td>\n",
       "      <td>0.003037</td>\n",
       "      <td>0.000654</td>\n",
       "      <td>0.000940</td>\n",
       "      <td>4.557491</td>\n",
       "      <td>4.882044</td>\n",
       "      <td>4.587006</td>\n",
       "      <td>2.396496e-02</td>\n",
       "      <td>5.22</td>\n",
       "      <td>-3.3125</td>\n",
       "      <td>0.014031</td>\n",
       "    </tr>\n",
       "    <tr>\n",
       "      <th>1996-09-01</th>\n",
       "      <td>-0.042441</td>\n",
       "      <td>0.08</td>\n",
       "      <td>0.0</td>\n",
       "      <td>0.027880</td>\n",
       "      <td>0.014515</td>\n",
       "      <td>-0.017463</td>\n",
       "      <td>-0.000758</td>\n",
       "      <td>0.005869</td>\n",
       "      <td>0.002580</td>\n",
       "      <td>4.572006</td>\n",
       "      <td>4.881286</td>\n",
       "      <td>4.569543</td>\n",
       "      <td>-1.847630e-02</td>\n",
       "      <td>5.30</td>\n",
       "      <td>-3.3125</td>\n",
       "      <td>0.041911</td>\n",
       "    </tr>\n",
       "    <tr>\n",
       "      <th>1996-10-01</th>\n",
       "      <td>0.000000</td>\n",
       "      <td>-0.06</td>\n",
       "      <td>0.0</td>\n",
       "      <td>0.000000</td>\n",
       "      <td>-0.012074</td>\n",
       "      <td>-0.023911</td>\n",
       "      <td>0.006805</td>\n",
       "      <td>0.002597</td>\n",
       "      <td>0.002860</td>\n",
       "      <td>4.559932</td>\n",
       "      <td>4.888091</td>\n",
       "      <td>4.545632</td>\n",
       "      <td>-1.847630e-02</td>\n",
       "      <td>5.24</td>\n",
       "      <td>-3.3125</td>\n",
       "      <td>0.041911</td>\n",
       "    </tr>\n",
       "    <tr>\n",
       "      <th>1996-11-01</th>\n",
       "      <td>0.047589</td>\n",
       "      <td>0.07</td>\n",
       "      <td>0.0</td>\n",
       "      <td>0.006582</td>\n",
       "      <td>-0.003081</td>\n",
       "      <td>0.011607</td>\n",
       "      <td>-0.000754</td>\n",
       "      <td>0.002591</td>\n",
       "      <td>0.001931</td>\n",
       "      <td>4.556851</td>\n",
       "      <td>4.887337</td>\n",
       "      <td>4.557240</td>\n",
       "      <td>2.911222e-02</td>\n",
       "      <td>5.31</td>\n",
       "      <td>-3.3125</td>\n",
       "      <td>0.048493</td>\n",
       "    </tr>\n",
       "    <tr>\n",
       "      <th>1996-12-01</th>\n",
       "      <td>-0.029112</td>\n",
       "      <td>-0.02</td>\n",
       "      <td>0.0</td>\n",
       "      <td>-0.048493</td>\n",
       "      <td>-0.004386</td>\n",
       "      <td>-0.013413</td>\n",
       "      <td>0.000754</td>\n",
       "      <td>0.000647</td>\n",
       "      <td>0.001451</td>\n",
       "      <td>4.552465</td>\n",
       "      <td>4.888091</td>\n",
       "      <td>4.543827</td>\n",
       "      <td>-4.000000e-12</td>\n",
       "      <td>5.29</td>\n",
       "      <td>-3.3125</td>\n",
       "      <td>0.000000</td>\n",
       "    </tr>\n",
       "  </tbody>\n",
       "</table>\n",
       "<p>372 rows × 16 columns</p>\n",
       "</div>"
      ],
      "text/plain": [
       "               RESID   DFF  DTARG    RESIDF   PCIPNSA     PCWCP  PCPPINSA  \\\n",
       "DATE                                                                        \n",
       "1966-01-01  0.000000   NaN    0.0  0.000000       NaN       NaN       NaN   \n",
       "1966-02-01  0.000000  0.18    0.0  0.000000  0.027662  0.016317  0.005731   \n",
       "1966-03-01  0.000000  0.05    0.0  0.000000  0.019874  0.008060  0.000000   \n",
       "1966-04-01  0.000000  0.02    0.0  0.000000 -0.001575  0.000926  0.000000   \n",
       "1966-05-01  0.000000  0.23    0.0  0.000000  0.007054 -0.014290  0.000000   \n",
       "...              ...   ...    ...       ...       ...       ...       ...   \n",
       "1996-08-01 -0.065340 -0.18    0.0 -0.182795  0.047797  0.001733  0.003037   \n",
       "1996-09-01 -0.042441  0.08    0.0  0.027880  0.014515 -0.017463 -0.000758   \n",
       "1996-10-01  0.000000 -0.06    0.0  0.000000 -0.012074 -0.023911  0.006805   \n",
       "1996-11-01  0.047589  0.07    0.0  0.006582 -0.003081  0.011607 -0.000754   \n",
       "1996-12-01 -0.029112 -0.02    0.0 -0.048493 -0.004386 -0.013413  0.000754   \n",
       "\n",
       "            PCCPINSA  PCPCEGSA   LNIPNSA  LNPPINSA     LNWCP       SUMSHCK  \\\n",
       "DATE                                                                         \n",
       "1966-01-01       NaN       NaN  3.703990  3.549617  3.453474  0.000000e+00   \n",
       "1966-02-01  0.002963  0.004159  3.731652  3.555348  3.469790  0.000000e+00   \n",
       "1966-03-01  0.005900  0.002451  3.751526  3.555348  3.477850  0.000000e+00   \n",
       "1966-04-01  0.005865  0.003377  3.749951  3.555348  3.478776  0.000000e+00   \n",
       "1966-05-01  0.000000  0.001197  3.757005  3.555348  3.464485  0.000000e+00   \n",
       "...              ...       ...       ...       ...       ...           ...   \n",
       "1996-08-01  0.000654  0.000940  4.557491  4.882044  4.587006  2.396496e-02   \n",
       "1996-09-01  0.005869  0.002580  4.572006  4.881286  4.569543 -1.847630e-02   \n",
       "1996-10-01  0.002597  0.002860  4.559932  4.888091  4.545632 -1.847630e-02   \n",
       "1996-11-01  0.002591  0.001931  4.556851  4.887337  4.557240  2.911222e-02   \n",
       "1996-12-01  0.000647  0.001451  4.552465  4.888091  4.543827 -4.000000e-12   \n",
       "\n",
       "              FF  SUMDTARG  SUMSHCKF  \n",
       "DATE                                  \n",
       "1966-01-01  4.42    0.0000  0.000000  \n",
       "1966-02-01  4.60    0.0000  0.000000  \n",
       "1966-03-01  4.65    0.0000  0.000000  \n",
       "1966-04-01  4.67    0.0000  0.000000  \n",
       "1966-05-01  4.90    0.0000  0.000000  \n",
       "...          ...       ...       ...  \n",
       "1996-08-01  5.22   -3.3125  0.014031  \n",
       "1996-09-01  5.30   -3.3125  0.041911  \n",
       "1996-10-01  5.24   -3.3125  0.041911  \n",
       "1996-11-01  5.31   -3.3125  0.048493  \n",
       "1996-12-01  5.29   -3.3125  0.000000  \n",
       "\n",
       "[372 rows x 16 columns]"
      ]
     },
     "execution_count": 2,
     "metadata": {},
     "output_type": "execute_result"
    }
   ],
   "source": [
    "df = pd.read_excel('./data/in/RomerandRomerDataAppendix.xls',sheet_name='DATA BY MONTH',index_col=0)\n",
    "df"
   ]
  },
  {
   "cell_type": "code",
   "execution_count": 3,
   "metadata": {},
   "outputs": [],
   "source": [
    "def get_B_S(y,x,nLx,nLy,monthly_dummies=True):\n",
    "    \n",
    "    n1 = y.shape[0]\n",
    "    nL = max(nLy,nLx)\n",
    "    nT = n1 - nL\n",
    "\n",
    "    Y = y.values.reshape(1,-1)\n",
    "\n",
    "    if monthly_dummies:\n",
    "        Z = pd.get_dummies(y.index.month).values.T\n",
    "    else:\n",
    "        Z = np.ones((1,n1))\n",
    "    nZ,_ = Z.shape\n",
    "\n",
    "    X = np.full((0,n1),np.nan)\n",
    "    for h in range(1,nLy+1):\n",
    "        X = np.row_stack((X,y.shift(h).T))\n",
    "    for h in range(1,nLx+1):\n",
    "        X = np.row_stack((X,x.shift(h).T))\n",
    "\n",
    "    Y = Y[:,nL:]\n",
    "    Z = Z[:,nL:]\n",
    "    X = X[:,nL:]\n",
    "\n",
    "    Mz = (np.eye(nT)-Z.T@np.linalg.inv(Z@Z.T)@Z)\n",
    "\n",
    "    B = (Y@Mz@X.T)@np.linalg.inv(X@Mz@X.T)\n",
    "    S = 1/(nT-nLx-nLy-nZ)*((Y-B@X)@Mz@(Y.T-X.T@B.T))*np.linalg.inv(X@Mz@X.T)\n",
    "    \n",
    "    return B,S"
   ]
  },
  {
   "cell_type": "code",
   "execution_count": 4,
   "metadata": {},
   "outputs": [],
   "source": [
    "def get_irf(b,c,nLx,nLy,nH):\n",
    "    irf = np.full(nH+1,np.nan)\n",
    "    cc = np.pad(c,(0,nH-nLx+1))\n",
    "    bb = np.pad(b,(0,nH-nLy+1))\n",
    "    irf[0] = 0\n",
    "    for h in range(1,nH+1):\n",
    "        irf[h] = cc[h-1] + irf[:h][::-1]@bb[:h]\n",
    "    return irf, np.cumsum(irf)"
   ]
  },
  {
   "cell_type": "code",
   "execution_count": 5,
   "metadata": {},
   "outputs": [],
   "source": [
    "nLy = 24\n",
    "nLx = 36\n",
    "nH = 48\n",
    "y = 100*df.loc[:,'PCIPNSA'].loc['1967':'1996']\n",
    "x = df.loc[:,'RESID'].loc['1967':'1996']"
   ]
  },
  {
   "cell_type": "code",
   "execution_count": 6,
   "metadata": {},
   "outputs": [],
   "source": [
    "B,S = get_B_S(y,x,nLx,nLy)"
   ]
  },
  {
   "cell_type": "code",
   "execution_count": 7,
   "metadata": {},
   "outputs": [],
   "source": [
    "B = B[0]\n",
    "b, c = B[:nLy], B[nLy:]"
   ]
  },
  {
   "cell_type": "code",
   "execution_count": 8,
   "metadata": {},
   "outputs": [
    {
     "data": {
      "text/plain": [
       "array([ 0.063, -0.013,  0.107,  0.048,  0.028, -0.005,  0.018,  0.008,\n",
       "        0.04 , -0.043,  0.071,  0.287,  0.023, -0.196, -0.151, -0.128,\n",
       "        0.078,  0.085,  0.056,  0.081, -0.06 , -0.017, -0.068,  0.086])"
      ]
     },
     "execution_count": 8,
     "metadata": {},
     "output_type": "execute_result"
    }
   ],
   "source": [
    "b.round(3)"
   ]
  },
  {
   "cell_type": "code",
   "execution_count": 9,
   "metadata": {},
   "outputs": [
    {
     "data": {
      "text/plain": [
       "array([ 0.3785,  0.2618, -0.3802, -0.1172, -0.3932, -0.0062, -0.0815,\n",
       "       -0.287 , -0.2105, -0.4689, -0.2544, -0.3545, -0.212 , -0.0697,\n",
       "       -0.0306,  0.1871, -0.0917, -0.2443, -0.2264, -0.066 , -0.1084,\n",
       "       -0.3239,  0.1457, -0.0034, -0.0108, -0.0015, -0.068 ,  0.3804,\n",
       "        0.1287,  0.3497,  0.175 ,  0.0934,  0.1444,  0.4665,  0.1116,\n",
       "        0.2373])"
      ]
     },
     "execution_count": 9,
     "metadata": {},
     "output_type": "execute_result"
    }
   ],
   "source": [
    "c.round(4)"
   ]
  },
  {
   "cell_type": "code",
   "execution_count": 10,
   "metadata": {},
   "outputs": [],
   "source": [
    "IRF_IP, CIRF_IP = get_irf(b,c,nLx,nLy,nH)\n",
    "nR = 500\n",
    "IRF_R = np.full((nR,nH+1),np.nan)\n",
    "CIRF_R = np.full((nR,nH+1),np.nan)\n",
    "for r in range(nR):\n",
    "    B_r = np.random.multivariate_normal(B,S)\n",
    "    b_r, c_r = B_r[:nLy], B_r[nLy:]\n",
    "    irf_r, cirf_r = get_irf(b_r,c_r,nLx,nLy,nH)\n",
    "    IRF_R[r], CIRF_R[r] = irf_r, cirf_r\n",
    "CSTD_IP = CIRF_R.std(axis=0)\n",
    "CIRF_IP_16, CIRF_IP_84 = CIRF_IP-CSTD_IP, CIRF_IP+CSTD_IP"
   ]
  },
  {
   "cell_type": "code",
   "execution_count": 11,
   "metadata": {},
   "outputs": [
    {
     "data": {
      "image/png": "[encoded data removed]",
      "text/plain": [
       "<Figure size 576x360 with 1 Axes>"
      ]
     },
     "metadata": {
      "needs_background": "light"
     },
     "output_type": "display_data"
    }
   ],
   "source": [
    "fig, ax = mpl.subplots(1,1,figsize=(8,5))\n",
    "ax.plot(CIRF_IP,lw=2)\n",
    "ax.plot(CIRF_IP_16,lw=1,color='k',ls=':')\n",
    "ax.plot(CIRF_IP_84,lw=1,color='k',ls=':')\n",
    "ax.axhline(y=0,color='k',lw=0.5,zorder=1)\n",
    "ax.set_xticks(range(0,nH+1,6))\n",
    "ax.set_yticks(np.arange(-7,2+1,1))\n",
    "ax.set_ylim(-7,2)\n",
    "ax.set_title('The effect of monetary policy on output');"
   ]
  },
  {
   "cell_type": "markdown",
   "metadata": {},
   "source": [
    "### Prices"
   ]
  },
  {
   "cell_type": "code",
   "execution_count": 12,
   "metadata": {},
   "outputs": [],
   "source": [
    "nLy = 24\n",
    "nLx = 48\n",
    "nH = 48\n",
    "y = 100*df.loc[:,'PCPPINSA'].loc['1966':'1996']\n",
    "x = df.loc[:,'RESID'].loc['1966':'1996']"
   ]
  },
  {
   "cell_type": "code",
   "execution_count": 13,
   "metadata": {},
   "outputs": [],
   "source": [
    "B,S = get_B_S(y,x,nLx,nLy)"
   ]
  },
  {
   "cell_type": "code",
   "execution_count": 14,
   "metadata": {},
   "outputs": [],
   "source": [
    "B = B[0]\n",
    "b, c = B[:nLy], B[nLy:]"
   ]
  },
  {
   "cell_type": "code",
   "execution_count": 15,
   "metadata": {},
   "outputs": [
    {
     "data": {
      "text/plain": [
       "array([ 0.192,  0.002, -0.038, -0.098,  0.009,  0.107, -0.056,  0.05 ,\n",
       "        0.074, -0.049,  0.087,  0.127, -0.071, -0.02 , -0.019, -0.018,\n",
       "        0.056,  0.029,  0.009,  0.093,  0.004, -0.004, -0.057,  0.045])"
      ]
     },
     "execution_count": 15,
     "metadata": {},
     "output_type": "execute_result"
    }
   ],
   "source": [
    "b.round(3)"
   ]
  },
  {
   "cell_type": "code",
   "execution_count": 16,
   "metadata": {},
   "outputs": [
    {
     "data": {
      "text/plain": [
       "array([ 0.0573,  0.0093, -0.0541,  0.1   ,  0.1449, -0.0563,  0.0079,\n",
       "        0.0489, -0.1277,  0.0869, -0.1563, -0.029 ,  0.0126, -0.0225,\n",
       "        0.0976, -0.0425,  0.0326, -0.1216,  0.0487, -0.1976,  0.0221,\n",
       "       -0.0072, -0.1325, -0.1864, -0.2395, -0.2502, -0.1699, -0.0185,\n",
       "       -0.219 , -0.3289, -0.3096, -0.0638, -0.1342, -0.0982, -0.152 ,\n",
       "       -0.3346, -0.1879, -0.1551,  0.0099, -0.1691, -0.0662, -0.2926,\n",
       "       -0.1315, -0.0272, -0.1482,  0.0089, -0.1512, -0.0768])"
      ]
     },
     "execution_count": 16,
     "metadata": {},
     "output_type": "execute_result"
    }
   ],
   "source": [
    "c.round(4)"
   ]
  },
  {
   "cell_type": "code",
   "execution_count": 17,
   "metadata": {},
   "outputs": [],
   "source": [
    "IRF_PPI, CIRF_PPI = get_irf(b,c,nLx,nLy,nH)\n",
    "nR = 100\n",
    "IRF_R = np.full((nR,nH+1),np.nan)\n",
    "CIRF_R = np.full((nR,nH+1),np.nan)\n",
    "for r in range(nR):\n",
    "    B_r = np.random.multivariate_normal(B,S)\n",
    "    b_r, c_r = B_r[:nLy], B_r[nLy:]\n",
    "    irf_r, cirf_r = get_irf(b_r,c_r,nLx,nLy,nH)\n",
    "    IRF_R[r], CIRF_R[r] = irf_r, cirf_r\n",
    "CSTD_PPI = CIRF_R.std(axis=0)\n",
    "CIRF_PPI_16, CIRF_PPI_84 = CIRF_PPI-CSTD_PPI, CIRF_PPI+CSTD_PPI"
   ]
  },
  {
   "cell_type": "code",
   "execution_count": 18,
   "metadata": {},
   "outputs": [
    {
     "data": {
      "image/png": "[encoded data removed]",
      "text/plain": [
       "<Figure size 576x360 with 1 Axes>"
      ]
     },
     "metadata": {
      "needs_background": "light"
     },
     "output_type": "display_data"
    }
   ],
   "source": [
    "fig, ax = mpl.subplots(1,1,figsize=(8,5))\n",
    "ax.plot(CIRF_PPI,lw=2)\n",
    "ax.plot(CIRF_PPI_16,lw=1,color='k',ls=':')\n",
    "ax.plot(CIRF_PPI_84,lw=1,color='k',ls=':')\n",
    "ax.axhline(y=0,color='k',lw=0.5,zorder=1)\n",
    "ax.set_xticks(range(0,nH+1,6))\n",
    "ax.set_yticks(np.arange(-7,2+1,1))\n",
    "ax.set_ylim(-7,2)\n",
    "ax.set_title('The effect of monetary policy on the price level');"
   ]
  },
  {
   "cell_type": "code",
   "execution_count": null,
   "metadata": {},
   "outputs": [],
   "source": []
  }
 ],
 "metadata": {
  "kernelspec": {
   "display_name": "Python 3 (ipykernel)",
   "language": "python",
   "name": "python3"
  },
  "language_info": {
   "codemirror_mode": {
    "name": "ipython",
    "version": 3
   },
   "file_extension": ".py",
   "mimetype": "text/x-python",
   "name": "python",
   "nbconvert_exporter": "python",
   "pygments_lexer": "ipython3",
   "version": "3.8.10"
  }
 },
 "nbformat": 4,
 "nbformat_minor": 4
}
